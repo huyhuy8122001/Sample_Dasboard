{
 "cells": [
  {
   "cell_type": "code",
   "execution_count": 5,
   "metadata": {},
   "outputs": [
    {
     "name": "stdout",
     "output_type": "stream",
     "text": [
      "Running on http://127.0.0.1:8051/\n",
      "Running on http://127.0.0.1:8051/\n",
      "Running on http://127.0.0.1:8051/\n",
      "Running on http://127.0.0.1:8051/\n",
      "Running on http://127.0.0.1:8051/\n",
      "Debugger PIN: 287-762-107\n",
      "Debugger PIN: 287-762-107\n",
      "Debugger PIN: 287-762-107\n",
      "Debugger PIN: 287-762-107\n",
      "Debugger PIN: 287-762-107\n",
      " * Serving Flask app '__main__' (lazy loading)\n",
      " * Environment: production\n",
      "\u001b[31m   WARNING: This is a development server. Do not use it in a production deployment.\u001b[0m\n",
      "\u001b[2m   Use a production WSGI server instead.\u001b[0m\n",
      " * Debug mode: on\n"
     ]
    }
   ],
   "source": [
    "import dash\n",
    "import dash_html_components as html\n",
    "import dash_core_components as dcc\n",
    "from dash.dependencies import Input, Output\n",
    "import pandas as pd\n",
    "import plotly.express as px\n",
    "\n",
    "\n",
    "#data\n",
    "avocado = pd.read_csv('avocado-updated-2020.csv')\n",
    "\n",
    "#Dash app\n",
    "app = dash.Dash(__name__)\n",
    "\n",
    "#Layout\n",
    "app.layout = html.Div(children=[\n",
    "    html.H1(children='Dashboard'),\n",
    "    dcc.Dropdown(id='geo-dropdown',\n",
    "                 options=[{'label': i, 'value': i}\n",
    "                          for i in avocado['geography'].unique()],\n",
    "                 value='New York'),\n",
    "    dcc.Graph(id='price-graph')\n",
    "])\n",
    "\n",
    "\n",
    "#Callback\n",
    "@app.callback(\n",
    "    Output(component_id='price-graph', component_property='figure'),\n",
    "    [Input(component_id='geo-dropdown', component_property='value')]\n",
    ")\n",
    "def update_graph(selected_geography):\n",
    "    filtered_avocado = avocado[avocado['geography'] == selected_geography]\n",
    "    line_fig = px.line(filtered_avocado,\n",
    "                       x='date', y='average_price',\n",
    "                       color='type',\n",
    "                       title=f'Avocado Prices in {selected_geography}')\n",
    "    return line_fig\n",
    "\n",
    "\n",
    "# Run app\n",
    "if __name__ == '__main__':\n",
    "    app.run_server(port=8051, debug=True, use_reloader=False)\n"
   ]
  }
 ],
 "metadata": {
  "interpreter": {
   "hash": "106c9e6e8f273d8665262fdf68cf6adce96f5fad32bf1fc943d6cdcb6cb98ab8"
  },
  "kernelspec": {
   "display_name": "Python 3.9.7 64-bit ('env_dash': conda)",
   "language": "python",
   "name": "python3"
  },
  "language_info": {
   "codemirror_mode": {
    "name": "ipython",
    "version": 3
   },
   "file_extension": ".py",
   "mimetype": "text/x-python",
   "name": "python",
   "nbconvert_exporter": "python",
   "pygments_lexer": "ipython3",
   "version": "3.9.7"
  },
  "orig_nbformat": 4
 },
 "nbformat": 4,
 "nbformat_minor": 2
}
